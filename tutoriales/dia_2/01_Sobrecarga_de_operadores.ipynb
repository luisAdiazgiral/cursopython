{
 "cells": [
  {
   "cell_type": "markdown",
   "metadata": {},
   "source": [
    "# Sobrecarga de operadores\n",
    "\n",
    "**Autor:** Roberto Muñoz <br />\n",
    "**E-mail:** <rmunoz@metricarts.com> <br />\n",
    "**Github:** <https://github.com/rpmunoz> <br />\n",
    "\n",
    "Operadores típicos como la suma, resta y otros, pueden ser sobrecargados, lo que posibilita que el programador interactúe con objetos de una manera natural."
   ]
  },
  {
   "cell_type": "markdown",
   "metadata": {},
   "source": [
    "Los operadores que se pueden sobrecargar y las funciones especiales que los representan a la hora de programar la sobrecarga se listan a continuación:\n",
    "\n",
    "<img src=\"images/listaSobrecargas.png\" width=\"600\">"
   ]
  },
  {
   "cell_type": "markdown",
   "metadata": {},
   "source": [
    "Tomemos la clase Perro vista en la sección de Clases, y agreguemos la sobrecarga del operador de suma (+), de manera que cuando sumemos 2 perritos, \"nazca\" otro:"
   ]
  },
  {
   "cell_type": "code",
   "execution_count": 14,
   "metadata": {
    "collapsed": true
   },
   "outputs": [],
   "source": [
    "class Perro:\n",
    "    \n",
    "    def __init__(self, nombre, dia, mes, año, ladrido):\n",
    "        self.nombre = nombre\n",
    "        self.dia = dia\n",
    "        self.mes = mes\n",
    "        self.año = año\n",
    "        self.ladrido = ladrido\n",
    "\n",
    "    # El metodo bark es un método accesor que retorna el valor de la variable ladrido\n",
    "    def bark(self):\n",
    "        return self.ladrido\n",
    "\n",
    "    # El metodo getName es un método accesor que retorna el nombre del perro\n",
    "    def getName(self):\n",
    "        return self.nombre\n",
    "    \n",
    "    # El método getBirthDate es un método accesor que retorna la fecha de nacimiento del perro\n",
    "    def getBirthdate(self):\n",
    "        return str(self.dia) + \"/\" + str(self.mes) + \"/\" + str(self.año)\n",
    "\n",
    "    # Este es un método mutador que cambia el ladrido del objeto Perro.\n",
    "    def changeBark(self, ladrido):\n",
    "        self.ladrido = ladrido\n",
    "    \n",
    "    # Aquí está el método interesante. Con este método podremos \"sumar\" dos perros.\n",
    "    # La mayor gracia está en que lo que se sobrecarga es el operador \"+\", de sintaxis\n",
    "    # amistosa.\n",
    "    def __add__(self,otherDog):\n",
    "        return Perro(\"Cachorro de \" + self.nombre + \" y \" + otherDog.nombre, \\\n",
    "                   self.dia, self.mes, self.año + 1, \\\n",
    "                   self.ladrido + otherDog.ladrido)"
   ]
  },
  {
   "cell_type": "markdown",
   "metadata": {},
   "source": [
    "Hagamos ahora un ejemplo de sobrecarga del operador de suma"
   ]
  },
  {
   "cell_type": "code",
   "execution_count": null,
   "metadata": {},
   "outputs": [],
   "source": [
    "help(Perro)"
   ]
  },
  {
   "cell_type": "code",
   "execution_count": 16,
   "metadata": {},
   "outputs": [
    {
     "name": "stdout",
     "output_type": "stream",
     "text": [
      "Cachorro de Bobby y Lucy\n",
      "WrafffArf\n",
      "9/7/1979\n"
     ]
    }
   ],
   "source": [
    "Padre = Perro(\"Bobby\", 9, 7, 1978, \"Wrafff\")\n",
    "Madre = Perro(\"Lucy\", 12, 4, 1975, \"Arf\")\n",
    "\n",
    "# El milagro de la vida...\n",
    "Hijo = Padre + Madre\n",
    "\n",
    "print(Hijo.getName())\n",
    "print(Hijo.bark())\n",
    "print(Hijo.getBirthdate())"
   ]
  },
  {
   "cell_type": "markdown",
   "metadata": {},
   "source": [
    "---\n",
    "# Ejercicios\n",
    "\n",
    "Realice los siguientes ejercicios. En caso de tener dudas, puede apoyarse con sus compañeros, preguntarle al profesor y hacer búsquedas en internet."
   ]
  },
  {
   "cell_type": "markdown",
   "metadata": {},
   "source": [
    "1. Cree una clase llamada `complejo` que permita representar un número complejo (parte real y parte imaginaria). Sobrecargue los siguientes operadores:\n",
    "\n",
    "    * +\n",
    "    * *\n",
    "    * str()\n",
    "    * =="
   ]
  },
  {
   "cell_type": "code",
   "execution_count": 7,
   "metadata": {},
   "outputs": [],
   "source": [
    "class complejo:\n",
    "    \n",
    "    def __init__ (self, real, no_real):\n",
    "        r = real\n",
    "        i = no_real\n",
    "    def __add__ (self,otronumero):\n",
    "        return complejo(self.r + otronumero.r , self.i + otronumero.i)\n",
    "    def __str__\n",
    "        \n",
    "    "
   ]
  },
  {
   "cell_type": "code",
   "execution_count": 20,
   "metadata": {},
   "outputs": [
    {
     "ename": "AttributeError",
     "evalue": "'complejo' object has no attribute 'r'",
     "output_type": "error",
     "traceback": [
      "\u001b[1;31m---------------------------------------------------------------------------\u001b[0m",
      "\u001b[1;31mAttributeError\u001b[0m                            Traceback (most recent call last)",
      "\u001b[1;32m<ipython-input-20-dd4cab86f02c>\u001b[0m in \u001b[0;36m<module>\u001b[1;34m()\u001b[0m\n\u001b[0;32m      2\u001b[0m \u001b[0motronumero\u001b[0m \u001b[1;33m=\u001b[0m \u001b[0mcomplejo\u001b[0m\u001b[1;33m(\u001b[0m\u001b[1;36m4\u001b[0m\u001b[1;33m,\u001b[0m\u001b[1;36m6\u001b[0m\u001b[1;33m)\u001b[0m\u001b[1;33m\u001b[0m\u001b[0m\n\u001b[0;32m      3\u001b[0m \u001b[1;33m\u001b[0m\u001b[0m\n\u001b[1;32m----> 4\u001b[1;33m \u001b[0mrespuesta\u001b[0m \u001b[1;33m=\u001b[0m \u001b[0mn1\u001b[0m \u001b[1;33m+\u001b[0m \u001b[0motronumero\u001b[0m\u001b[1;33m\u001b[0m\u001b[0m\n\u001b[0m\u001b[0;32m      5\u001b[0m \u001b[0mprint\u001b[0m\u001b[1;33m(\u001b[0m\u001b[0mrespuesta\u001b[0m\u001b[1;33m)\u001b[0m\u001b[1;33m\u001b[0m\u001b[0m\n",
      "\u001b[1;32m<ipython-input-7-4813bf510ab0>\u001b[0m in \u001b[0;36m__add__\u001b[1;34m(self, otronumero)\u001b[0m\n\u001b[0;32m      5\u001b[0m         \u001b[0mi\u001b[0m \u001b[1;33m=\u001b[0m \u001b[0mno_real\u001b[0m\u001b[1;33m\u001b[0m\u001b[0m\n\u001b[0;32m      6\u001b[0m     \u001b[1;32mdef\u001b[0m \u001b[0m__add__\u001b[0m \u001b[1;33m(\u001b[0m\u001b[0mself\u001b[0m\u001b[1;33m,\u001b[0m\u001b[0motronumero\u001b[0m\u001b[1;33m)\u001b[0m\u001b[1;33m:\u001b[0m\u001b[1;33m\u001b[0m\u001b[0m\n\u001b[1;32m----> 7\u001b[1;33m         \u001b[1;32mreturn\u001b[0m \u001b[0mcomplejo\u001b[0m\u001b[1;33m(\u001b[0m\u001b[0mself\u001b[0m\u001b[1;33m.\u001b[0m\u001b[0mr\u001b[0m \u001b[1;33m+\u001b[0m \u001b[0motronumero\u001b[0m\u001b[1;33m.\u001b[0m\u001b[0mr\u001b[0m \u001b[1;33m,\u001b[0m \u001b[0mself\u001b[0m\u001b[1;33m.\u001b[0m\u001b[0mi\u001b[0m \u001b[1;33m+\u001b[0m \u001b[0motronumero\u001b[0m\u001b[1;33m.\u001b[0m\u001b[0mi\u001b[0m\u001b[1;33m)\u001b[0m\u001b[1;33m\u001b[0m\u001b[0m\n\u001b[0m\u001b[0;32m      8\u001b[0m \u001b[1;33m\u001b[0m\u001b[0m\n",
      "\u001b[1;31mAttributeError\u001b[0m: 'complejo' object has no attribute 'r'"
     ]
    }
   ],
   "source": [
    "n1 = complejo(2,3)\n",
    "otronumero = complejo(4,6)\n",
    "\n",
    "respuesta = n1 + otronumero\n",
    "print(respuesta)"
   ]
  },
  {
   "cell_type": "code",
   "execution_count": null,
   "metadata": {
    "collapsed": true
   },
   "outputs": [],
   "source": []
  }
 ],
 "metadata": {
  "kernelspec": {
   "display_name": "Python 3",
   "language": "python",
   "name": "python3"
  },
  "language_info": {
   "codemirror_mode": {
    "name": "ipython",
    "version": 3
   },
   "file_extension": ".py",
   "mimetype": "text/x-python",
   "name": "python",
   "nbconvert_exporter": "python",
   "pygments_lexer": "ipython3",
   "version": "3.6.3"
  }
 },
 "nbformat": 4,
 "nbformat_minor": 2
}
