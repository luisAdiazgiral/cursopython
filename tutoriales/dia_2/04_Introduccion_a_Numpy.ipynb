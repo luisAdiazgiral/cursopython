{
 "cells": [
  {
   "cell_type": "markdown",
   "metadata": {},
   "source": [
    "# Introducción a  Numpy\n",
    "\n",
    "**Autor:** Roberto Muñoz <br />\n",
    "**E-mail:** <rmunoz@metricarts.com> <br />\n",
    "**Github:** <https://github.com/rpmunoz> <br />\n",
    "\n",
    "Uno de los módulos más importantes de Python es **[Numpy](http://www.numpy.org/)**. El origen de Numpy se debe principalmente al diseñador de software Jim Hugunin quien diseñó el módulo Numeric para dotar a Python de capacidades de cálculo similares a las de otros softwares como MATLAB. Posteriormente, mejoró Numeric incorporando nuevas funcionalidades naciendo lo que hoy conocemos como Numpy.\n",
    "\n",
    "Numpy es el encargado de añadir toda la capacidad matemática y vectorial a Python haciendo posible operar con cualquier dato numérico o array (posteriormente veremos qué es un array). Incorpora operaciones tan básicas como la suma o la multiplicación u otras mucho más complejas como la transformada de Fourier o el álgebra lineal. Además incorpora herramientas que nos permiten incorporar código fuente de otros lenguajes de programación como C/C++ o Fortran lo que incrementa notablemente su compatibilidad e implementación.\n"
   ]
  },
  {
   "cell_type": "markdown",
   "metadata": {},
   "source": [
    "## ¿Porqué usar Numpy?\n",
    "\n",
    "En múltiples ocasiones necesitamos hacer operaciones numéricas sobre datos provenientes de archivos Excel o Bases de datos que contienen múltiples campos (columnas) y múltiples registros (filas).\n",
    "\n",
    "Vimos que en Python existen las listas, tuplas y diccionarios, las cuales son de gran ayuda para almacenar y adminsitrar datos. Veamos qué sucede cuando queremos sumar los elementos almacenados en dos listas."
   ]
  },
  {
   "cell_type": "code",
   "execution_count": 1,
   "metadata": {},
   "outputs": [
    {
     "name": "stdout",
     "output_type": "stream",
     "text": [
      "[1, 2, 3, 4, 5, 6, 7, 8]\n"
     ]
    }
   ],
   "source": [
    "x=[1,2,3,4]\n",
    "y=[5,6,7,8]\n",
    "print(x+y)"
   ]
  },
  {
   "cell_type": "markdown",
   "metadata": {},
   "source": [
    "Como podemos notar, el operador + simplemente concatena las dos listas.\n",
    "¿Alguien sugiere como podriamos sumar los elmentos de las dos listas, elemento por elemento?"
   ]
  },
  {
   "cell_type": "code",
   "execution_count": 2,
   "metadata": {},
   "outputs": [
    {
     "name": "stdout",
     "output_type": "stream",
     "text": [
      "[6, 8, 10, 12]\n"
     ]
    }
   ],
   "source": [
    "res=[]\n",
    "for i in range(4):\n",
    "    res.append(x[i]+y[i])\n",
    "    \n",
    "print(res)"
   ]
  },
  {
   "cell_type": "markdown",
   "metadata": {},
   "source": [
    "## Cómo importar el paquete Numpy\n",
    "\n",
    "Partimos importando el paquete numpy usando la función import. En este caso usaremos el alias np para referirnos de manera más abreviada a las clases y  métodos implementados en numpy."
   ]
  },
  {
   "cell_type": "code",
   "execution_count": 3,
   "metadata": {
    "collapsed": true
   },
   "outputs": [],
   "source": [
    "import numpy"
   ]
  },
  {
   "cell_type": "code",
   "execution_count": 8,
   "metadata": {},
   "outputs": [
    {
     "name": "stdout",
     "output_type": "stream",
     "text": [
      "1.13.3\n"
     ]
    }
   ],
   "source": [
    "import numpy as np\n",
    "print(np.__version__)"
   ]
  },
  {
   "cell_type": "code",
   "execution_count": 5,
   "metadata": {},
   "outputs": [
    {
     "name": "stderr",
     "output_type": "stream",
     "text": [
      "IOPub data rate exceeded.\n",
      "The notebook server will temporarily stop sending output\n",
      "to the client in order to avoid crashing it.\n",
      "To change this limit, set the config variable\n",
      "`--NotebookApp.iopub_data_rate_limit`.\n"
     ]
    }
   ],
   "source": [
    "help(np)"
   ]
  },
  {
   "cell_type": "markdown",
   "metadata": {},
   "source": [
    "## Definición de arreglos en Numpy"
   ]
  },
  {
   "cell_type": "code",
   "execution_count": 43,
   "metadata": {},
   "outputs": [
    {
     "ename": "TypeError",
     "evalue": "'builtin_function_or_method' object is not subscriptable",
     "output_type": "error",
     "traceback": [
      "\u001b[1;31m---------------------------------------------------------------------------\u001b[0m",
      "\u001b[1;31mTypeError\u001b[0m                                 Traceback (most recent call last)",
      "\u001b[1;32m<ipython-input-43-25825c46d2c6>\u001b[0m in \u001b[0;36m<module>\u001b[1;34m()\u001b[0m\n\u001b[0;32m      3\u001b[0m \u001b[0mx\u001b[0m \u001b[1;33m=\u001b[0m \u001b[1;33m[\u001b[0m\u001b[1;36m1\u001b[0m\u001b[1;33m,\u001b[0m\u001b[1;36m2\u001b[0m\u001b[1;33m,\u001b[0m\u001b[1;36m3\u001b[0m\u001b[1;33m,\u001b[0m\u001b[1;36m4\u001b[0m\u001b[1;33m]\u001b[0m\u001b[1;33m\u001b[0m\u001b[0m\n\u001b[0;32m      4\u001b[0m \u001b[1;31m# lo convierto a un arreglo\u001b[0m\u001b[1;33m\u001b[0m\u001b[1;33m\u001b[0m\u001b[0m\n\u001b[1;32m----> 5\u001b[1;33m \u001b[0mnp\u001b[0m\u001b[1;33m.\u001b[0m\u001b[0marray\u001b[0m\u001b[1;33m[\u001b[0m\u001b[0mx\u001b[0m\u001b[1;33m]\u001b[0m\u001b[1;33m\u001b[0m\u001b[0m\n\u001b[0m",
      "\u001b[1;31mTypeError\u001b[0m: 'builtin_function_or_method' object is not subscriptable"
     ]
    }
   ],
   "source": [
    "import numpy as np\n",
    "#creo una lista\n",
    "x = [1,2,3,4]\n",
    "# lo convierto a un arreglo\n",
    "np.array[x]"
   ]
  },
  {
   "cell_type": "code",
   "execution_count": 44,
   "metadata": {},
   "outputs": [
    {
     "name": "stdout",
     "output_type": "stream",
     "text": [
      "[[1 2 3 4]\n",
      " [5 6 7 8]]\n",
      "type(x):  <class 'numpy.ndarray'>\n",
      "x.dtype:  int32\n",
      "x.size:  8\n",
      "x.shape:  (2, 4)\n"
     ]
    }
   ],
   "source": [
    "# Definir un arreglo 1D\n",
    "\n",
    "x = np.array([[1,2,3,4],[5,6,7,8]])\n",
    "print(x)\n",
    "print('type(x): ', type(x))\n",
    "print('x.dtype: ', x.dtype)\n",
    "print('x.size: ', x.size)\n",
    "print('x.shape: ', x.shape)"
   ]
  },
  {
   "cell_type": "code",
   "execution_count": 45,
   "metadata": {},
   "outputs": [
    {
     "name": "stdout",
     "output_type": "stream",
     "text": [
      "[ 1.  2.  3.  4.]\n",
      "type(x):  <class 'numpy.ndarray'>\n",
      "x.dtype:  float32\n",
      "x.size:  4\n",
      "x.shape:  (4,)\n"
     ]
    }
   ],
   "source": [
    "# Definir un arreglo 1D como tipo de dato de punto flotante\n",
    "\n",
    "x = np.array([1,2,3,4], dtype=np.float32)\n",
    "print(x)\n",
    "print('type(x): ', type(x))\n",
    "print('x.dtype: ', x.dtype)\n",
    "print('x.size: ', x.size)\n",
    "print('x.shape: ', x.shape)"
   ]
  },
  {
   "cell_type": "code",
   "execution_count": null,
   "metadata": {
    "collapsed": true
   },
   "outputs": [],
   "source": [
    "# Sumar los arreglos x e y\n",
    "y = np.array([5,6,7,8])\n",
    "print('x: ', x)\n",
    "print('y: ', y)\n",
    "print('Suma: ', x+y)"
   ]
  },
  {
   "cell_type": "code",
   "execution_count": null,
   "metadata": {
    "collapsed": true
   },
   "outputs": [],
   "source": [
    "# Definir un arreglo 2D\n",
    "\n",
    "x= np.array([[1,2,3,4],[5,6,7,8]])\n",
    "print(x)\n",
    "print(type(x))\n",
    "print(x.size)\n",
    "print(x.shape)"
   ]
  },
  {
   "cell_type": "code",
   "execution_count": null,
   "metadata": {
    "collapsed": true
   },
   "outputs": [],
   "source": [
    "x[0:2,0:3]"
   ]
  },
  {
   "cell_type": "markdown",
   "metadata": {},
   "source": [
    "**See Figure 1 for an illustration of indexing on a 2D array.**<br />\n",
    "<img src=\"images/numpy_indexing.png\" width=\"400\">"
   ]
  },
  {
   "cell_type": "code",
   "execution_count": 13,
   "metadata": {},
   "outputs": [
    {
     "name": "stdout",
     "output_type": "stream",
     "text": [
      "x:  [ 0.  0.  0.  0.  0.  0.  0.  0.  0.  0.]\n"
     ]
    }
   ],
   "source": [
    "# Inicializar un arreglo 1D y otro 2D con ceros. Notar que usamos Y por X\n",
    "\n",
    "x=np.zeros(10)\n",
    "print('x: ', x)\n",
    "\n"
   ]
  },
  {
   "cell_type": "code",
   "execution_count": 15,
   "metadata": {},
   "outputs": [
    {
     "name": "stdout",
     "output_type": "stream",
     "text": [
      "y: [[ 0.  0.  0.  0.]\n",
      " [ 0.  0.  0.  0.]]\n"
     ]
    }
   ],
   "source": [
    "#crea una matriz de 2 x 4 llena de ceros\n",
    "y=np.zeros([2,4])\n",
    "print('y:', y)"
   ]
  },
  {
   "cell_type": "code",
   "execution_count": 16,
   "metadata": {},
   "outputs": [
    {
     "name": "stdout",
     "output_type": "stream",
     "text": [
      "[ 0.65808899  0.47933713  0.56218995  0.08316312  0.9703593   0.91256046\n",
      "  0.28583344  0.91549493  0.62513945  0.68079058  0.97997493  0.98612958\n",
      "  0.71846047  0.54188475  0.9700548   0.24467974  0.34742879  0.97592453\n",
      "  0.36399275  0.03372885  0.21908879  0.20370196  0.15741511  0.88014038\n",
      "  0.9530411   0.07106175  0.75634326  0.38896965  0.04430522  0.21262789\n",
      "  0.89418313  0.36860152  0.94884087  0.70614811  0.7402545   0.75824677\n",
      "  0.75795292  0.14236372  0.32271251  0.13571367  0.81094582  0.25684864\n",
      "  0.74379103  0.66716967  0.69157692  0.20795592  0.98103172  0.16195789\n",
      "  0.52919943  0.3388473   0.7313846   0.53043758  0.52536267  0.14820193\n",
      "  0.43853324  0.96566053  0.76913846  0.934004    0.89955928  0.46934475\n",
      "  0.92033183  0.43945428  0.81708946  0.3806422   0.69834037  0.14416499\n",
      "  0.40652581  0.19639656  0.99556531  0.47013197  0.74331465  0.06223319\n",
      "  0.53045269  0.0283605   0.11507632  0.027362    0.39859155  0.46973874\n",
      "  0.75191133  0.16772356  0.70903702  0.95316942  0.27901105  0.12344457\n",
      "  0.89044114  0.34603159  0.03894154  0.86184463  0.44755562  0.11864474\n",
      "  0.31229352  0.57815845  0.64938864  0.32893808  0.26702372  0.58105023\n",
      "  0.37504506  0.55693729  0.43461104  0.13067515]\n"
     ]
    }
   ],
   "source": [
    "# Crear un arreglo usando valores aleatorios entre 0 y 1\n",
    "#en el ejemplo usamos el modulo random np.random ( y llamamos a la funcion random [random.random])\n",
    "\n",
    "x=np.random.random(100)\n",
    "print(x)"
   ]
  },
  {
   "cell_type": "code",
   "execution_count": null,
   "metadata": {},
   "outputs": [],
   "source": []
  },
  {
   "cell_type": "code",
   "execution_count": null,
   "metadata": {
    "collapsed": true
   },
   "outputs": [],
   "source": [
    "# Extraer valores de un arreglo Numpy usando indices\n",
    "\n",
    "x= np.array([[1,2,3,4],\n",
    "            [5,6,7,8],\n",
    "             [9,10,11,12]])\n",
    "print(x)\n",
    "\n",
    "print('\\nx[0,3]: ', x[0,3])\n",
    "\n",
    "print('\\nx[:,0]: ', x[:,0])\n",
    "print('\\nx[0,:]: ', x[0,:])"
   ]
  },
  {
   "cell_type": "code",
   "execution_count": null,
   "metadata": {
    "collapsed": true
   },
   "outputs": [],
   "source": []
  },
  {
   "cell_type": "code",
   "execution_count": null,
   "metadata": {
    "collapsed": true
   },
   "outputs": [],
   "source": [
    "# Numpy permite crear máscaras fácilmente usando condiciones booleanas\n",
    "\n",
    "a=x>6\n",
    "print(a)"
   ]
  },
  {
   "cell_type": "code",
   "execution_count": null,
   "metadata": {
    "collapsed": true
   },
   "outputs": [],
   "source": [
    "# Extraer los valores de x que satisfacen la condición booleana. Para ello usamos la máscara\n",
    "\n",
    "print(x[a])"
   ]
  },
  {
   "cell_type": "markdown",
   "metadata": {},
   "source": [
    "**See Figure 2 for an illustration of boolean indexing on a 2D array.**<br />\n",
    "<img src=\"images/boolean_indexing.png\" width=\"400\">"
   ]
  },
  {
   "cell_type": "code",
   "execution_count": 19,
   "metadata": {},
   "outputs": [
    {
     "data": {
      "text/plain": [
       "(100,)"
      ]
     },
     "execution_count": 19,
     "metadata": {},
     "output_type": "execute_result"
    }
   ],
   "source": [
    "x.shape"
   ]
  },
  {
   "cell_type": "code",
   "execution_count": 57,
   "metadata": {},
   "outputs": [
    {
     "data": {
      "text/plain": [
       "10.0"
      ]
     },
     "execution_count": 57,
     "metadata": {},
     "output_type": "execute_result"
    }
   ],
   "source": [
    "# Sumar los valores de un arreglo 2D a lo largo del eje Y (columnas)\n",
    "\n",
    "np.sum(x, axis=0)\n"
   ]
  },
  {
   "cell_type": "code",
   "execution_count": null,
   "metadata": {
    "collapsed": true
   },
   "outputs": [],
   "source": [
    "# Sumar los valores de un arrego 2D a lo largo del eje X (filas)\n",
    "\n",
    "np.sum(x, axis=1)"
   ]
  },
  {
   "cell_type": "code",
   "execution_count": 20,
   "metadata": {},
   "outputs": [
    {
     "name": "stdout",
     "output_type": "stream",
     "text": [
      "[ 0.65808899  0.47933713  0.56218995  0.08316312  0.9703593   0.91256046\n",
      "  0.28583344  0.91549493  0.62513945  0.68079058  0.97997493  0.98612958\n",
      "  0.71846047  0.54188475  0.9700548   0.24467974  0.34742879  0.97592453\n",
      "  0.36399275  0.03372885  0.21908879  0.20370196  0.15741511  0.88014038\n",
      "  0.9530411   0.07106175  0.75634326  0.38896965  0.04430522  0.21262789\n",
      "  0.89418313  0.36860152  0.94884087  0.70614811  0.7402545   0.75824677\n",
      "  0.75795292  0.14236372  0.32271251  0.13571367  0.81094582  0.25684864\n",
      "  0.74379103  0.66716967  0.69157692  0.20795592  0.98103172  0.16195789\n",
      "  0.52919943  0.3388473   0.7313846   0.53043758  0.52536267  0.14820193\n",
      "  0.43853324  0.96566053  0.76913846  0.934004    0.89955928  0.46934475\n",
      "  0.92033183  0.43945428  0.81708946  0.3806422   0.69834037  0.14416499\n",
      "  0.40652581  0.19639656  0.99556531  0.47013197  0.74331465  0.06223319\n",
      "  0.53045269  0.0283605   0.11507632  0.027362    0.39859155  0.46973874\n",
      "  0.75191133  0.16772356  0.70903702  0.95316942  0.27901105  0.12344457\n",
      "  0.89044114  0.34603159  0.03894154  0.86184463  0.44755562  0.11864474\n",
      "  0.31229352  0.57815845  0.64938864  0.32893808  0.26702372  0.58105023\n",
      "  0.37504506  0.55693729  0.43461104  0.13067515] (100,)\n"
     ]
    }
   ],
   "source": [
    "# Crear la transpuesta de la matriz x\n",
    "\n",
    "y= x.T\n",
    "print(y, y.shape)\n"
   ]
  },
  {
   "cell_type": "markdown",
   "metadata": {},
   "source": [
    "## Funciones matemáticas"
   ]
  },
  {
   "cell_type": "code",
   "execution_count": 25,
   "metadata": {},
   "outputs": [
    {
     "name": "stdout",
     "output_type": "stream",
     "text": [
      "Mean:  0.494577503674\n",
      "StdDev:  0.292145380083\n"
     ]
    }
   ],
   "source": [
    "x=np.random.random(1000)\n",
    "#print(x)\n",
    "print('Mean: ', np.mean(x)) #calcula el promedio\n",
    "print('StdDev: ', np.std(x)) #calcula la desviacion estandar"
   ]
  },
  {
   "cell_type": "code",
   "execution_count": 22,
   "metadata": {},
   "outputs": [
    {
     "name": "stdout",
     "output_type": "stream",
     "text": [
      "Mean:  0.0527265083846\n",
      "StdDev:  0.968803588192\n"
     ]
    }
   ],
   "source": [
    "x=np.random.randn(1000)\n",
    "print('Mean: ', np.mean(x))\n",
    "print('StdDev: ', np.std(x))"
   ]
  },
  {
   "cell_type": "code",
   "execution_count": 23,
   "metadata": {
    "collapsed": true
   },
   "outputs": [],
   "source": [
    "# También es posible importar algunas funciones directamente desde las librerías\n",
    "# Para ello usamos la sintaxis from <nombre_libreria> import <nombre_funcion>\n",
    "\n",
    "from numpy.random import random"
   ]
  },
  {
   "cell_type": "code",
   "execution_count": 24,
   "metadata": {},
   "outputs": [
    {
     "data": {
      "text/plain": [
       "array([ 0.38760497,  0.7733742 ,  0.04503078,  0.58427117,  0.57767688,\n",
       "        0.79054731,  0.28223093,  0.50843586,  0.51505065,  0.12897384,\n",
       "        0.14707895,  0.33180921,  0.5526053 ,  0.09864696,  0.90574478,\n",
       "        0.3878045 ,  0.0415066 ,  0.81860438,  0.52560338,  0.56839495,\n",
       "        0.08651488,  0.79160059,  0.51128308,  0.02577938,  0.55026723,\n",
       "        0.67177822,  0.17418821,  0.29821099,  0.4838073 ,  0.35904516,\n",
       "        0.96882692,  0.77350444,  0.36844304,  0.32942088,  0.80912528,\n",
       "        0.08947383,  0.88397636,  0.54141027,  0.21418762,  0.29284414,\n",
       "        0.50188064,  0.02230725,  0.61988346,  0.19154279,  0.57379998,\n",
       "        0.94955581,  0.87847437,  0.04853016,  0.90675615,  0.82937286,\n",
       "        0.40946577,  0.67179405,  0.77748344,  0.27316124,  0.55727131,\n",
       "        0.18003906,  0.44451673,  0.86213084,  0.02743237,  0.85559746,\n",
       "        0.36387986,  0.29273102,  0.80547944,  0.96360931,  0.79692688,\n",
       "        0.57262914,  0.21592149,  0.09260759,  0.65721399,  0.9292104 ,\n",
       "        0.13920512,  0.23892111,  0.89811688,  0.64778038,  0.51380804,\n",
       "        0.76615609,  0.55751492,  0.00920502,  0.13123785,  0.18245347,\n",
       "        0.23878599,  0.92441799,  0.22814775,  0.76070943,  0.23825295,\n",
       "        0.35445223,  0.90818251,  0.88598678,  0.18221484,  0.55516543,\n",
       "        0.60723768,  0.47221137,  0.03771961,  0.75135655,  0.51667213,\n",
       "        0.83966518,  0.33198603,  0.24391582,  0.33521841,  0.42916469])"
      ]
     },
     "execution_count": 24,
     "metadata": {},
     "output_type": "execute_result"
    }
   ],
   "source": [
    "random(100)"
   ]
  },
  {
   "cell_type": "code",
   "execution_count": null,
   "metadata": {
    "collapsed": true
   },
   "outputs": [],
   "source": [
    "# Crear un arreglo de enteros que comience en 0 y termine en 10 (no incluído)\n",
    "\n",
    "x=np.arange(0,10)\n",
    "print(x)"
   ]
  },
  {
   "cell_type": "code",
   "execution_count": null,
   "metadata": {
    "collapsed": true
   },
   "outputs": [],
   "source": [
    "# Crear un arreglo de punto flotante que comience en 0 y termine en 10, con paso de 0.5\n",
    "\n",
    "x=np.arange(0,10,0.5, dtype=np.float64)\n",
    "print(x)\n",
    "print(x.dtype)"
   ]
  },
  {
   "cell_type": "code",
   "execution_count": null,
   "metadata": {
    "collapsed": true,
    "scrolled": false
   },
   "outputs": [],
   "source": [
    "# Usar funciones trigonométricas\n",
    "# Numpy contiene una serie de constantes matemáticas. Usaremos Pi\n",
    "\n",
    "y=np.sin(x*np.pi)\n",
    "print(y)"
   ]
  },
  {
   "cell_type": "code",
   "execution_count": null,
   "metadata": {
    "collapsed": true
   },
   "outputs": [],
   "source": [
    "# Usar funciones como potencia\n",
    "\n",
    "y=np.power(x,2) # elevar cada elemento del arreglo x, a la segunda potencia\n",
    "print(y)"
   ]
  },
  {
   "cell_type": "code",
   "execution_count": null,
   "metadata": {
    "collapsed": true
   },
   "outputs": [],
   "source": [
    "# Usar funciones como raíz cuadrada\n",
    "\n",
    "y=np.sqrt(x) # raíz de a, del inglés \"square root\"\n",
    "print(y)"
   ]
  },
  {
   "cell_type": "markdown",
   "metadata": {},
   "source": [
    "Escribir *np.sqrt(x)* es mucho más breve que la alternativa de usar funciones nativas de Python: Calcular una a una las raíces cuadradas de cada elemento de *x*."
   ]
  },
  {
   "cell_type": "code",
   "execution_count": null,
   "metadata": {
    "collapsed": true
   },
   "outputs": [],
   "source": [
    "result = []\n",
    "for el in x:\n",
    "    result.append(el**0.5)\n",
    "\n",
    "print(\"\\nUsando Python built-in: \", result)\n",
    "print(\"\\nUsando Numpy: \", y)"
   ]
  },
  {
   "cell_type": "markdown",
   "metadata": {
    "collapsed": true
   },
   "source": [
    "---\n",
    "\n",
    "# Ejercicios\n",
    "\n",
    "Realice los siguientes ejercicios. En caso de tener dudas, puede apoyarse con sus compañeros, preguntarle al profesor y hacer búsquedas en internet.\n",
    "\n",
    "1. Cree una matriz de 7 columnas por 9 filas. Las primeras 3 columnas de la matriz tienen que tener el valor 0. La cuarta columna debe tener el valor 0.5, excepto por el último valor de esa columna, que tiene que ser 0.7. Las otras tres columnas deben tener el valor 1.\n",
    "\n",
    "    Imprima la matriz y calcule las suma de los elementos de la última fila"
   ]
  },
  {
   "cell_type": "code",
   "execution_count": 59,
   "metadata": {},
   "outputs": [
    {
     "name": "stdout",
     "output_type": "stream",
     "text": [
      "[[0, 0, 0, 0.5, 1, 1], [0, 0, 0, 0.5, 1, 1], [0, 0, 0, 0.5, 1, 1], [0, 0, 0, 0.5, 1, 1], [0, 0, 0, 0.5, 1, 1], [0, 0, 0, 0.5, 1, 1], [0, 0, 0, 0.5, 1, 1], [0, 0, 0, 0.5, 1, 1], [0, 0, 0, 0.7, 1, 1]]\n"
     ]
    },
    {
     "data": {
      "text/plain": [
       "2.7000000000000002"
      ]
     },
     "execution_count": 59,
     "metadata": {},
     "output_type": "execute_result"
    }
   ],
   "source": [
    "import numpy as np\n",
    "k = 8 * [[0,0,0,0.5,1,1]] + [[0,0,0,0.7,1,1]]\n",
    "print(k)\n",
    "np.array(k)\n",
    "np.sum(k[8:])"
   ]
  },
  {
   "cell_type": "markdown",
   "metadata": {},
   "source": [
    "2. La siguienteinstrucción crea una matriz aleatoria de 5 por 5 con valores entre 0 y 1\n",
    "    `matriz_aleatoria=np.random.rand(5,5)` \n",
    "\n",
    "    Imprima las posiciones (Fila y columna) de los elementos de la matriz que son mayores que 0.5"
   ]
  },
  {
   "cell_type": "code",
   "execution_count": null,
   "metadata": {
    "collapsed": true
   },
   "outputs": [],
   "source": [
    "matriz_aleatoria=np.random.rand(5,5)\n",
    "print(matriz_aleatoria)"
   ]
  },
  {
   "cell_type": "code",
   "execution_count": null,
   "metadata": {
    "collapsed": true
   },
   "outputs": [],
   "source": []
  }
 ],
 "metadata": {
  "kernelspec": {
   "display_name": "Python 3",
   "language": "python",
   "name": "python3"
  },
  "language_info": {
   "codemirror_mode": {
    "name": "ipython",
    "version": 3
   },
   "file_extension": ".py",
   "mimetype": "text/x-python",
   "name": "python",
   "nbconvert_exporter": "python",
   "pygments_lexer": "ipython3",
   "version": "3.6.3"
  }
 },
 "nbformat": 4,
 "nbformat_minor": 2
}
